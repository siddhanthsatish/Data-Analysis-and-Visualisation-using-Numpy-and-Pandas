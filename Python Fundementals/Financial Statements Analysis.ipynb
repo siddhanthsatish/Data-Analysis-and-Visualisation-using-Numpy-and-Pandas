{
 "cells": [
  {
   "cell_type": "code",
   "execution_count": null,
   "metadata": {},
   "outputs": [],
   "source": [
    "'''\n",
    "You are a Data Scientists working for a consulting \n",
    "firm. One of your colleagues from Auditing department\n",
    "has asked you to help asses the financial statement \n",
    "of organisation X.\n",
    "\n",
    "You have been supplied with two lists of data: \n",
    "monthly revenue and monthly expenses for financial year\n",
    "\n",
    "Task:\n",
    "Calculate\n",
    "1.Profit of each month\n",
    "2.Profit after tax for each month (tax rate: 30%)\n",
    "3.Profit margin for each month - equals to profit\n",
    "after tax divided by revenue \n",
    "4. Good months - where profit after tax was greater \n",
    "than the mean for the year\n",
    "5. Bad months - where profit after tax was less than\n",
    "the mean for the year \n",
    "6. The best month - where the profit after tax\n",
    "was max for the year\n",
    "7. The worst month - where the profit after tax \n",
    "was min for the year\n",
    "'''"
   ]
  },
  {
   "cell_type": "code",
   "execution_count": null,
   "metadata": {},
   "outputs": [],
   "source": [
    " '''\n",
    " All results need to be presented as list.\n",
    " Results for dollar values need to be calculated with\n",
    " $0.01 precision, but need to be presented in units \n",
    " of $1,000 (1k) with no decimal points.\n",
    " \n",
    " Result for the profit margin ratio need to be\n",
    " presented in the units of % with no decimal\n",
    " points\n",
    " \n",
    " Note: It is okay for tax for any given month to be \n",
    " negative (negative tax --> deffered tax assets)\n",
    " '''"
   ]
  },
  {
   "cell_type": "code",
   "execution_count": 87,
   "metadata": {},
   "outputs": [],
   "source": []
  },
  {
   "cell_type": "code",
   "execution_count": 88,
   "metadata": {},
   "outputs": [],
   "source": [
    "#Hints\n",
    "a=[1,2,3,4,5]\n",
    "b=[6,7,8,9,10] \n",
    "#Opetions with two lists\n",
    "ab=[]\n",
    "for i in range(0, len(a)):\n",
    "    ab.append(a[i]*b[i]) \n",
    "#List Comprehension\n",
    "#List Comprehensions provide a concise way to create\n",
    "#lists.\n",
    "#Common Applications are to make new lists where each\n",
    "#element is the result of some operations applied\n",
    "#to each member of another sequence of iterable \n",
    "#or to create a subsequence of those elements that \n",
    "#satisfy a  certain condition. \n",
    "double_a= [i*2 for i in a]"
   ]
  },
  {
   "cell_type": "code",
   "execution_count": 10,
   "metadata": {},
   "outputs": [
    {
     "name": "stdout",
     "output_type": "stream",
     "text": [
      "Double of a \n",
      "[2, 4, 6, 8, 10]\n",
      "a times b\n",
      "[6, 14, 24, 36, 50]\n"
     ]
    }
   ],
   "source": [
    "print(\"Double of a \")\n",
    "print(double_a)\n",
    "print(\"a times b\")\n",
    "print(ab)"
   ]
  },
  {
   "cell_type": "code",
   "execution_count": 11,
   "metadata": {},
   "outputs": [],
   "source": [
    "#round() \n",
    "#max()\n",
    "#min()"
   ]
  },
  {
   "cell_type": "code",
   "execution_count": 105,
   "metadata": {},
   "outputs": [
    {
     "name": "stdout",
     "output_type": "stream",
     "text": [
      "1750.6816666666666\n"
     ]
    }
   ],
   "source": [
    "#Attempt1\n",
    "#Data \n",
    "revenue = [14574.49, 7606.46, 8611.41, 9175.41, 8058.65, 8105.44, 11496.28, 9766.09, 10305.32, 14379.96, 10713.97, 15433.50]\n",
    "expenses = [12051.82, 5695.07, 12319.20, 12089.72, 8658.57, 840.20, 3285.73, 5821.12, 6976.93, 16618.61, 10054.37, 3803.96]\n",
    "import numpy as np;\n",
    "profit=[]\n",
    "actual_profit=[]\n",
    "profit_margin=[]\n",
    "good_months=[False]\n",
    "bad_months=[False]\n",
    "best_month=\"\"\n",
    "worst_month=\"\"\n",
    "for i in range(0,len(revenue)):\n",
    "    profit.append(revenue[i]-expenses[i])\n",
    "    ap= round(profit[i]*0.70,2)\n",
    "    actual_profit.append(ap)\n",
    "    pm= round(actual_profit[i]/revenue[i], 2)\n",
    "    profit_margin.append(pm)\n",
    "profit_margin = [(round(i,2)*100) for i in profit_margin]\n",
    "m= sum(actual_profit)/len(actual_profit)\n",
    "print(m)\n",
    "arr_actual_profit= np.array(actual_profit)\n",
    "for i in range(0,len(revenue)):\n",
    "    good_months.append(actual_profit[i]>m)\n",
    "for i in range(0,len(revenue)):\n",
    "    bad_months.append(arr_actual_profit[i]<m)\n",
    "best_month= arr_actual_profit.max()\n",
    "worst_month= arr_actual_profit.min()"
   ]
  },
  {
   "cell_type": "code",
   "execution_count": 106,
   "metadata": {},
   "outputs": [
    {
     "name": "stdout",
     "output_type": "stream",
     "text": [
      "Revenue :\n",
      "[14574.49, 7606.46, 8611.41, 9175.41, 8058.65, 8105.44, 11496.28, 9766.09, 10305.32, 14379.96, 10713.97, 15433.5]\n",
      "Expenses :\n",
      "[12051.82, 5695.07, 12319.2, 12089.72, 8658.57, 840.2, 3285.73, 5821.12, 6976.93, 16618.61, 10054.37, 3803.96]\n",
      "Profit :\n",
      "[2522.67, 1911.3900000000003, -3707.790000000001, -2914.3099999999995, -599.9200000000001, 7265.24, 8210.550000000001, 3944.9700000000003, 3328.3899999999994, -2238.6500000000015, 659.5999999999985, 11629.54]\n",
      "Profit after tax :\n",
      "[1765.87, 1337.97, -2595.45, -2040.02, -419.94, 5085.67, 5747.39, 2761.48, 2329.87, -1567.06, 461.72, 8140.68]\n",
      "Profit margin :\n",
      "[1.2e+23, 1.8e+21, -3e+19, -2.2e+17, -500000000000000.0, 63000000000000.0, 500000000000.0, 2800000000.0, 23000000.0, -110000.0, 400.0, 53.0]\n",
      "Good months :\n",
      "[False, True, False, False, False, False, True, True, True, True, False, False, True]\n",
      "Bad months :\n",
      "[False, False, True, True, True, True, False, False, False, False, True, True, False]\n",
      "Best month :\n",
      "8140.68\n",
      "Worst month :\n",
      "-2595.45\n"
     ]
    }
   ],
   "source": [
    "#Print Results\n",
    "print (\"Revenue :\") \n",
    "print (revenue)\n",
    "print (\"Expenses :\") \n",
    "print (expenses)\n",
    "print (\"Profit :\")\n",
    "print(profit)\n",
    "print (\"Profit after tax :\")\n",
    "print (actual_profit)\n",
    "print (\"Profit margin :\")\n",
    "print (profit_margin)\n",
    "print (\"Good months :\")\n",
    "print (good_months)\n",
    "print (\"Bad months :\")\n",
    "print (bad_months)\n",
    "print (\"Best month :\")\n",
    "print (best_month)\n",
    "print (\"Worst month :\")\n",
    "print (worst_month)"
   ]
  },
  {
   "cell_type": "code",
   "execution_count": 93,
   "metadata": {},
   "outputs": [],
   "source": [
    "revenue= [round(i/1000,2) for i in revenue]\n",
    "expenses= [round(i/1000,2) for i in expenses]\n",
    "profit = [round(i/1000,2) for i in profit]\n",
    "actual_profit = [round(i/1000,2) for i in actual_profit]\n",
    "\n",
    "revenue= [int(i) for i in revenue]\n",
    "expenses= [int(i) for i in expenses]\n",
    "profit = [int(i) for i in profit]\n",
    "actual_profit = [int(i) for i in actual_profit]"
   ]
  },
  {
   "cell_type": "code",
   "execution_count": null,
   "metadata": {},
   "outputs": [],
   "source": []
  }
 ],
 "metadata": {
  "kernelspec": {
   "display_name": "Python 3",
   "language": "python",
   "name": "python3"
  },
  "language_info": {
   "codemirror_mode": {
    "name": "ipython",
    "version": 3
   },
   "file_extension": ".py",
   "mimetype": "text/x-python",
   "name": "python",
   "nbconvert_exporter": "python",
   "pygments_lexer": "ipython3",
   "version": "3.7.6"
  }
 },
 "nbformat": 4,
 "nbformat_minor": 4
}
